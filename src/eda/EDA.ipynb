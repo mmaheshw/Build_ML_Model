{
 "cells": [
  {
   "cell_type": "code",
   "execution_count": null,
   "id": "a41e0b1b",
   "metadata": {},
   "outputs": [],
   "source": [
    "# Importing wandb and pandas\n",
    "import wandb\n",
    "import pandas as pdS\n",
    "import pandas_profiling\n"
   ]
  },
  {
   "cell_type": "code",
   "execution_count": null,
   "id": "9e8c7901",
   "metadata": {},
   "outputs": [],
   "source": [
    "#Fetch and read the artifact sample\n",
    "run = wandb.init(project=\"nyc_airbnb\", group=\"eda\", save_code=True)\n",
    "local_path = wandb.use_artifact(\"sample.csv:latest\").file()\n",
    "df = pd.read_csv(local_path)"
   ]
  },
  {
   "cell_type": "code",
   "execution_count": null,
   "id": "b9405675",
   "metadata": {},
   "outputs": [],
   "source": [
    "#pip install pandas_profiling\n"
   ]
  },
  {
   "cell_type": "code",
   "execution_count": null,
   "id": "4042cab2",
   "metadata": {},
   "outputs": [],
   "source": [
    "# #Creating profile\n",
    "profile = pandas_profiling.ProfileReport(df)\n",
    "profile.to_widgets()"
   ]
  },
  {
   "cell_type": "code",
   "execution_count": null,
   "id": "fa8c9073",
   "metadata": {},
   "outputs": [],
   "source": [
    "# pip install ipywidgets\n"
   ]
  },
  {
   "cell_type": "markdown",
   "id": "14ef907d-f73f-45aa-9f61-8765b983ca7d",
   "metadata": {},
   "source": [
    "Pandas profiling helps us identify few things:\n",
    "\n",
    "- There are missing values in a few columns\n",
    "- The column last_review is a date but it is in string format\n",
    "- The price column has some zeros and some very high prices. These are outliers that need to be taken care of"
   ]
  },
  {
   "cell_type": "code",
   "execution_count": null,
   "id": "6b240d29",
   "metadata": {},
   "outputs": [],
   "source": [
    "# Drop outliers\n",
    "# We decide to keep min 10 and max 350\n",
    "min_price = 10\n",
    "max_price = 350\n",
    "idx = df['price'].between(min_price, max_price)\n",
    "df = df[idx].copy()\n",
    "# Convert last_review to datetime\n",
    "df['last_review'] = pd.to_datetime(df['last_review'])"
   ]
  },
  {
   "cell_type": "markdown",
   "id": "75a49980",
   "metadata": {},
   "source": [
    "We are not handling missing values as they will be handled as part of the inference pipeline so it can also reflect in the production environment"
   ]
  },
  {
   "cell_type": "code",
   "execution_count": null,
   "id": "6fda62fa",
   "metadata": {},
   "outputs": [],
   "source": [
    "# Checking if changes took place\n",
    "profile = pandas_profiling.ProfileReport(df)\n",
    "profile.to_widgets()\n"
   ]
  },
  {
   "cell_type": "code",
   "execution_count": null,
   "id": "c438731a",
   "metadata": {},
   "outputs": [],
   "source": [
    "\n",
    "df.info()"
   ]
  },
  {
   "cell_type": "code",
   "execution_count": null,
   "id": "179f9e45",
   "metadata": {},
   "outputs": [],
   "source": [
    "# Terminating the run\n",
    "run.finish()"
   ]
  },
  {
   "cell_type": "code",
   "execution_count": null,
   "id": "6850a2b5",
   "metadata": {},
   "outputs": [],
   "source": []
  }
 ],
 "metadata": {
  "kernelspec": {
   "display_name": "Python 3 (ipykernel)",
   "language": "python",
   "name": "python3"
  },
  "language_info": {
   "codemirror_mode": {
    "name": "ipython",
    "version": 3
   },
   "file_extension": ".py",
   "mimetype": "text/x-python",
   "name": "python",
   "nbconvert_exporter": "python",
   "pygments_lexer": "ipython3",
   "version": "3.8.17"
  }
 },
 "nbformat": 4,
 "nbformat_minor": 5
}
